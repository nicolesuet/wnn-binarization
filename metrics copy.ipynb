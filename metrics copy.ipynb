{
 "cells": [
  {
   "cell_type": "code",
   "execution_count": 21,
   "metadata": {},
   "outputs": [],
   "source": [
    "import pandas as pd\n",
    "import numpy as np\n",
    "import matplotlib.pyplot as plt\n",
    "import seaborn as sns\n",
    "from scipy.stats import f_oneway"
   ]
  },
  {
   "cell_type": "code",
   "execution_count": 22,
   "metadata": {},
   "outputs": [],
   "source": [
    "df = pd.read_csv('metrics/mnist_metrics.csv')"
   ]
  },
  {
   "cell_type": "code",
   "execution_count": 23,
   "metadata": {},
   "outputs": [
    {
     "name": "stdout",
     "output_type": "stream",
     "text": [
      "Basic Metrics:\n",
      "Mean Accuracy: 92.99\n",
      "Median Accuracy: 92.99\n",
      "Std Dev Accuracy: nan\n"
     ]
    }
   ],
   "source": [
    "print(\"Basic Metrics:\")\n",
    "print(\"Mean Accuracy:\", df['accuracy'].mean())\n",
    "print(\"Median Accuracy:\", df['accuracy'].median())\n",
    "print(\"Std Dev Accuracy:\", df['accuracy'].std())\n",
    "# print(\"Mean Delta Time:\", df['delta_time'].mean())\n",
    "# print(\"Median Delta Time:\", df['delta_time'].median())\n",
    "# print(\"Std Dev Delta Time:\", df['delta_time'].std())\n",
    "# print(\"Unique Models:\", df['model'].unique())\n",
    "# print(\"Unique Encodings:\", df['encoding'].unique())\n",
    "# print(\"Missing Values:\\n\", df.isnull().sum())"
   ]
  },
  {
   "cell_type": "code",
   "execution_count": 24,
   "metadata": {},
   "outputs": [
    {
     "name": "stdout",
     "output_type": "stream",
     "text": [
      "\n",
      "Aggregations by Model:\n",
      "       accuracy       \n",
      "           mean median\n",
      "model                 \n",
      "Wisard    92.99  92.99\n",
      "\n",
      "Aggregations by Encoding:\n",
      "             accuracy       \n",
      "                 mean median\n",
      "encoding                    \n",
      "Distributive    92.99  92.99\n"
     ]
    }
   ],
   "source": [
    "# Aggregations by Model\n",
    "print(\"\\nAggregations by Model:\")\n",
    "print(df.groupby('model').agg({'accuracy': ['mean', 'median']}))\n",
    "\n",
    "# Aggregations by Encoding\n",
    "print(\"\\nAggregations by Encoding:\")\n",
    "print(df.groupby('encoding').agg({'accuracy': ['mean', 'median']}))"
   ]
  },
  {
   "cell_type": "code",
   "execution_count": 25,
   "metadata": {},
   "outputs": [
    {
     "name": "stdout",
     "output_type": "stream",
     "text": [
      "\n",
      "Correlation between Delta Time and Accuracy: nan\n"
     ]
    },
    {
     "name": "stderr",
     "output_type": "stream",
     "text": [
      "/opt/homebrew/lib/python3.9/site-packages/numpy/lib/function_base.py:2846: RuntimeWarning: Degrees of freedom <= 0 for slice\n",
      "  c = cov(x, y, rowvar, dtype=dtype)\n",
      "/opt/homebrew/lib/python3.9/site-packages/numpy/lib/function_base.py:2705: RuntimeWarning: divide by zero encountered in divide\n",
      "  c *= np.true_divide(1, fact)\n",
      "/opt/homebrew/lib/python3.9/site-packages/numpy/lib/function_base.py:2705: RuntimeWarning: invalid value encountered in multiply\n",
      "  c *= np.true_divide(1, fact)\n"
     ]
    }
   ],
   "source": [
    "correlation = df['delta_time'].corr(df['accuracy'])\n",
    "print(\"\\nCorrelation between Delta Time and Accuracy:\", correlation)"
   ]
  },
  {
   "cell_type": "code",
   "execution_count": 26,
   "metadata": {},
   "outputs": [
    {
     "name": "stdout",
     "output_type": "stream",
     "text": [
      "\n",
      "Scatter Code Metrics:\n",
      "Mean Accuracy: nan\n"
     ]
    }
   ],
   "source": [
    "# Encoding-Specific Metrics (Scatter Code)\n",
    "\n",
    "scatter_code_data = df[df['encoding'] == 'Scatter Code']\n",
    "print(\"\\nScatter Code Metrics:\")\n",
    "print(\"Mean Accuracy:\", scatter_code_data['accuracy'].mean())"
   ]
  },
  {
   "cell_type": "code",
   "execution_count": 27,
   "metadata": {},
   "outputs": [],
   "source": [
    "# Group by model and encoding to calculate mean accuracy\n",
    "grouped_data = df.groupby(['model', 'encoding'])['accuracy'].mean().reset_index()\n",
    "\n",
    "# Pivot the data for easier visualization\n",
    "pivot_data = grouped_data.pivot(index='encoding', columns='model', values='accuracy')"
   ]
  },
  {
   "cell_type": "code",
   "execution_count": 39,
   "metadata": {},
   "outputs": [
    {
     "data": {
      "image/png": "[encoded data removed]",
      "text/plain": [
       "<Figure size 360x216 with 1 Axes>"
      ]
     },
     "metadata": {
      "needs_background": "light"
     },
     "output_type": "display_data"
    }
   ],
   "source": [
    "# Plot the data\n",
    "plt.figure(figsize=(5, 3))\n",
    "sns.barplot(data=grouped_data, x='encoding', y='accuracy', hue='model', palette='viridis')\n",
    "plt.title('Comparison of Accuracy by Model and Encoding')\n",
    "plt.xlabel('Encoding')\n",
    "plt.ylabel('Mean Accuracy')\n",
    "plt.legend(title='Model')\n",
    "plt.show()"
   ]
  },
  {
   "cell_type": "code",
   "execution_count": 45,
   "metadata": {},
   "outputs": [],
   "source": [
    "# Statistical Analysis (ANOVA)\n",
    "# Check if differences in accuracy are significant across encodings\n",
    "wisard_data = df[df['model'] == 'Wisard']\n",
    "dwn_data = df[df['model'] == 'DWN']\n",
    "\n",
    "# Perform ANOVA for Wisard\n",
    "wisard_anova = f_oneway(\n",
    "    wisard_data[wisard_data['encoding'] == 'Distributive']['accuracy'],\n",
    "    wisard_data[wisard_data['encoding'] == 'Gaussian']['accuracy'],\n",
    "    wisard_data[wisard_data['encoding'] == 'Linear']['accuracy'],\n",
    "    wisard_data[wisard_data['encoding'] == 'Scatter Code']['accuracy']\n",
    ")\n",
    "\n",
    "# Perform ANOVA for DWN\n",
    "dwn_anova = f_oneway(\n",
    "    dwn_data[dwn_data['encoding'] == 'Distributive']['accuracy'],\n",
    "    dwn_data[dwn_data['encoding'] == 'Gaussian']['accuracy'],\n",
    "    dwn_data[dwn_data['encoding'] == 'Linear']['accuracy'],\n",
    "    dwn_data[dwn_data['encoding'] == 'Scatter Code']['accuracy']\n",
    ")"
   ]
  },
  {
   "cell_type": "code",
   "execution_count": 47,
   "metadata": {},
   "outputs": [
    {
     "name": "stdout",
     "output_type": "stream",
     "text": [
      "ANOVA Results for Wisard:\n",
      "F-statistic: nan\n",
      "p-value: nan\n",
      "\n",
      "ANOVA Results for DWN:\n",
      "F-statistic: nan\n",
      "p-value: nan\n"
     ]
    }
   ],
   "source": [
    "print(\"ANOVA Results for Wisard:\")\n",
    "print(\"F-statistic:\", wisard_anova.statistic)\n",
    "print(\"p-value:\", wisard_anova.pvalue)\n",
    "\n",
    "print(\"\\nANOVA Results for DWN:\")\n",
    "print(\"F-statistic:\", dwn_anova.statistic)\n",
    "print(\"p-value:\", dwn_anova.pvalue)\n",
    "\n",
    "# # Insights\n",
    "# print(\"\\nInsights:\")\n",
    "# print(\"1. For Wisard, the highest mean accuracy is achieved with Linear encoding (99.33%).\")\n",
    "# print(\"2. For DWN, the highest mean accuracy is achieved with Gaussian and Linear encodings (98.0%).\")\n",
    "# print(\"3. Scatter Code encoding has the lowest accuracy for both models.\")\n",
    "# print(\"4. ANOVA results suggest that differences in accuracy across encodings are statistically significant for both models (p < 0.05).\")"
   ]
  },
  {
   "cell_type": "code",
   "execution_count": 48,
   "metadata": {},
   "outputs": [],
   "source": [
    "scatter_code_data = df[df['encoding'] == 'Scatter Code']"
   ]
  },
  {
   "cell_type": "code",
   "execution_count": 50,
   "metadata": {},
   "outputs": [
    {
     "name": "stderr",
     "output_type": "stream",
     "text": [
      "/var/folders/km/rd804c352zqbn7m1cxjbyd5c0000gn/T/ipykernel_92163/955062328.py:7: UserWarning: No artists with labels found to put in legend.  Note that artists whose label start with an underscore are ignored when legend() is called with no argument.\n",
      "  plt.legend(title='Model and Dimensions')\n"
     ]
    },
    {
     "data": {
      "image/png": "[encoded data removed]",
      "text/plain": [
       "<Figure size 360x216 with 1 Axes>"
      ]
     },
     "metadata": {
      "needs_background": "light"
     },
     "output_type": "display_data"
    }
   ],
   "source": [
    "\n",
    "# Scatter Plot: num_slices vs accuracy\n",
    "plt.figure(figsize=(5, 3))\n",
    "sns.scatterplot(data=scatter_code_data, x='num_slices', y='accuracy', hue='model', style='num_dimensions', s=100)\n",
    "plt.title('Accuracy vs Number of Slices (Scatter Code Encoding)')\n",
    "plt.xlabel('Number of Slices')\n",
    "plt.ylabel('Accuracy')\n",
    "plt.legend(title='Model and Dimensions')\n",
    "plt.show()\n"
   ]
  },
  {
   "cell_type": "code",
   "execution_count": 51,
   "metadata": {},
   "outputs": [
    {
     "name": "stderr",
     "output_type": "stream",
     "text": [
      "/var/folders/km/rd804c352zqbn7m1cxjbyd5c0000gn/T/ipykernel_92163/4145206916.py:7: UserWarning: No artists with labels found to put in legend.  Note that artists whose label start with an underscore are ignored when legend() is called with no argument.\n",
      "  plt.legend(title='Number of Dimensions')\n"
     ]
    },
    {
     "data": {
      "image/png": "[encoded data removed]",
      "text/plain": [
       "<Figure size 360x216 with 1 Axes>"
      ]
     },
     "metadata": {
      "needs_background": "light"
     },
     "output_type": "display_data"
    }
   ],
   "source": [
    "# Box Plot: Distribution of accuracy for num_slices and num_dimensions\n",
    "plt.figure(figsize=(5, 3))\n",
    "sns.boxplot(data=scatter_code_data, x='num_slices', y='accuracy', hue='num_dimensions', palette='Set2')\n",
    "plt.title('Distribution of Accuracy by Number of Slices and Dimensions (Scatter Code Encoding)')\n",
    "plt.xlabel('Number of Slices')\n",
    "plt.ylabel('Accuracy')\n",
    "plt.legend(title='Number of Dimensions')\n",
    "plt.show()"
   ]
  },
  {
   "cell_type": "code",
   "execution_count": 52,
   "metadata": {},
   "outputs": [
    {
     "data": {
      "image/png": "[encoded data removed]",
      "text/plain": [
       "<Figure size 288x216 with 2 Axes>"
      ]
     },
     "metadata": {
      "needs_background": "light"
     },
     "output_type": "display_data"
    }
   ],
   "source": [
    "# Correlation Matrix\n",
    "correlation_matrix = scatter_code_data[['num_slices', 'num_dimensions', 'accuracy']].corr()\n",
    "plt.figure(figsize=(4, 3))\n",
    "sns.heatmap(correlation_matrix, annot=True, cmap='coolwarm', vmin=-1, vmax=1)\n",
    "plt.title('Correlation Matrix for Scatter Code Encoding')\n",
    "plt.show()\n"
   ]
  },
  {
   "cell_type": "code",
   "execution_count": 53,
   "metadata": {},
   "outputs": [
    {
     "name": "stderr",
     "output_type": "stream",
     "text": [
      "/var/folders/km/rd804c352zqbn7m1cxjbyd5c0000gn/T/ipykernel_92163/2561900557.py:7: UserWarning: No artists with labels found to put in legend.  Note that artists whose label start with an underscore are ignored when legend() is called with no argument.\n",
      "  plt.legend(title='Number of Dimensions')\n"
     ]
    },
    {
     "data": {
      "image/png": "[encoded data removed]",
      "text/plain": [
       "<Figure size 360x216 with 1 Axes>"
      ]
     },
     "metadata": {
      "needs_background": "light"
     },
     "output_type": "display_data"
    }
   ],
   "source": [
    "# Grouped Bar Plot: Accuracy for Scatter Code by num_slices and num_dimensions\n",
    "plt.figure(figsize=(5, 3))\n",
    "sns.barplot(data=scatter_code_data, x='num_slices', y='accuracy', hue='num_dimensions', palette='viridis')\n",
    "plt.title('Accuracy by Number of Slices and Dimensions (Scatter Code Encoding)')\n",
    "plt.xlabel('Number of Slices')\n",
    "plt.ylabel('Accuracy')\n",
    "plt.legend(title='Number of Dimensions')\n",
    "plt.show()\n"
   ]
  },
  {
   "cell_type": "code",
   "execution_count": 36,
   "metadata": {},
   "outputs": [
    {
     "name": "stdout",
     "output_type": "stream",
     "text": [
      "Mean Accuracy by Number of Slices and Dimensions:\n",
      "Empty DataFrame\n",
      "Columns: [num_slices, num_dimensions, accuracy]\n",
      "Index: []\n"
     ]
    }
   ],
   "source": [
    "# Metrics: Mean accuracy for each combination of num_slices and num_dimensions\n",
    "mean_accuracy_by_slices_dims = scatter_code_data.groupby(['num_slices', 'num_dimensions'])['accuracy'].mean().reset_index()\n",
    "print(\"Mean Accuracy by Number of Slices and Dimensions:\")\n",
    "print(mean_accuracy_by_slices_dims)\n"
   ]
  },
  {
   "cell_type": "code",
   "execution_count": 55,
   "metadata": {},
   "outputs": [],
   "source": [
    "mean_accuracy_by_slices_dims = scatter_code_data.groupby(['num_slices', 'num_dimensions'])['accuracy'].mean().reset_index()\n",
    "\n",
    "# Calculate correlation between num_slices, num_dimensions, and accuracy\n",
    "correlation_matrix = scatter_code_data[['num_slices', 'num_dimensions', 'accuracy']].corr()\n",
    "\n",
    "# Compare accuracy across encodings\n",
    "encoding_accuracy = df.groupby('encoding')['accuracy'].mean().sort_values(ascending=False)"
   ]
  },
  {
   "cell_type": "code",
   "execution_count": 57,
   "metadata": {},
   "outputs": [],
   "source": [
    "# # Conclusions\n",
    "# print(\"Conclusions:\\n\")\n",
    "\n",
    "# # 1. Limited Impact of Slices and Dimensions on Accuracy\n",
    "# print(\"1. Limited Impact of Slices and Dimensions on Accuracy:\")\n",
    "# print(\"   - Correlation between num_slices and accuracy:\", correlation_matrix.loc['num_slices', 'accuracy'].round(3))\n",
    "# print(\"   - Correlation between num_dimensions and accuracy:\", correlation_matrix.loc['num_dimensions', 'accuracy'].round(3))\n",
    "# print(\"   - Mean accuracy for Scatter Code configurations:\")\n",
    "# print(mean_accuracy_by_slices_dims.to_string(index=False))\n",
    "# print(\"   - Conclusion: Changes in num_slices and num_dimensions have minimal impact on accuracy.\\n\")\n",
    "\n",
    "# # 2. Optimal Configuration for Scatter Code\n",
    "# print(\"2. Optimal Configuration for Scatter Code:\")\n",
    "# best_config = mean_accuracy_by_slices_dims.loc[mean_accuracy_by_slices_dims['accuracy'].idxmax()]\n",
    "# print(f\"   - Best configuration: num_slices={best_config['num_slices']}, num_dimensions={best_config['num_dimensions']}\")\n",
    "# print(f\"   - Highest accuracy: {best_config['accuracy']:.2f}%\")\n",
    "# print(\"   - Conclusion: The default configuration (num_slices=10, num_dimensions=20) is near optimal.\\n\")\n",
    "\n",
    "# # 3. Model-Specific Behavior\n",
    "# print(\"3. Model-Specific Behavior:\")\n",
    "# wisard_accuracy = scatter_code_data[scatter_code_data['model'] == 'Wisard']['accuracy'].mean()\n",
    "# dwn_accuracy = scatter_code_data[scatter_code_data['model'] == 'DWN']['accuracy'].mean()\n",
    "# print(f\"   - Wisard mean accuracy with Scatter Code: {wisard_accuracy:.2f}%\")\n",
    "# print(f\"   - DWN mean accuracy with Scatter Code: {dwn_accuracy:.2f}%\")\n",
    "# print(\"   - Conclusion: Wisard shows a slight decrease in accuracy with higher num_slices, while DWN is more robust.\\n\")\n",
    "\n",
    "# # 4. General Trends\n",
    "# print(\"4. General Trends:\")\n",
    "# print(\"   - Accuracy across encodings:\")\n",
    "# print(encoding_accuracy.to_string())\n",
    "# print(\"   - Conclusion: Scatter Code consistently achieves lower accuracy compared to other encodings like Linear and Gaussian.\\n\")"
   ]
  }
 ],
 "metadata": {
  "kernelspec": {
   "display_name": "Python 3",
   "language": "python",
   "name": "python3"
  },
  "language_info": {
   "codemirror_mode": {
    "name": "ipython",
    "version": 3
   },
   "file_extension": ".py",
   "mimetype": "text/x-python",
   "name": "python",
   "nbconvert_exporter": "python",
   "pygments_lexer": "ipython3",
   "version": "3.9.19"
  }
 },
 "nbformat": 4,
 "nbformat_minor": 2
}
