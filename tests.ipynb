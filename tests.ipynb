{
 "cells": [
  {
   "cell_type": "code",
   "execution_count": 18,
   "metadata": {},
   "outputs": [
    {
     "name": "stdout",
     "output_type": "stream",
     "text": [
      "Total: 960\n",
      "Total scatter code: 720\n",
      "Total normal encoding: 240\n",
      "Per dataset normal encoding: 30.0\n",
      "Per dataset scatter code: 90.0\n"
     ]
    }
   ],
   "source": [
    "epochs = 10\n",
    "num_slices = 3\n",
    "num_dimensions = 3\n",
    "datasets = 8\n",
    "scatter_code = epochs * num_slices * num_dimensions * datasets\n",
    "other_encodings = epochs * 3 * datasets\n",
    "\n",
    "print(f\"Total: {scatter_code + other_encodings}\")\n",
    "print(f\"Total scatter code: {scatter_code}\")\n",
    "print(f\"Total normal encoding: {other_encodings}\")\n",
    "print(f\"Per dataset normal encoding: {other_encodings/datasets}\")\n",
    "print(f\"Per dataset scatter code: {scatter_code/datasets}\")\n",
    "\n"
   ]
  },
  {
   "cell_type": "code",
   "execution_count": 20,
   "metadata": {},
   "outputs": [
    {
     "name": "stdout",
     "output_type": "stream",
     "text": [
      "Dataset Statlog (Shuttle) with id 148: (58000, 7)\n",
      "Dataset Ecoli with id 39: (336, 7)\n",
      "Dataset Iris with id 53: (150, 4)\n",
      "Dataset Wine Quality with id 186: (6497, 11)\n",
      "Dataset Statlog (Vehicle Silhouettes) with id 149: (846, 18)\n",
      "Dataset Maternal Health Risk with id 863: (1014, 6)\n",
      "Dataset Glass Identification with id 42: (214, 9)\n",
      "Dataset Optical Recognition of Handwritten Digits with id 80: (5620, 64)\n",
      "Dataset Image Segmentation with id 50: (210, 19)\n",
      "Total: 72887\n"
     ]
    }
   ],
   "source": [
    "from ucimlrepo import fetch_ucirepo\n",
    "from utils.datasets import datasets\n",
    "\n",
    "x = 0\n",
    "for dataset in datasets:\n",
    "    id = dataset.get(\"id\")\n",
    "    if(id != \"MNIST\"):\n",
    "        df = fetch_ucirepo(id=id)\n",
    "        name = df.metadata.name\n",
    "        n = df.data.features.shape[0]\n",
    "        if (id != 7):\n",
    "            x += n\n",
    "        print(f\"Dataset {name} with id {id}: {df.data.features.shape}\")\n",
    "\n",
    "print(f\"Total - Statlog (Shuttle): {x}\")"
   ]
  }
 ],
 "metadata": {
  "kernelspec": {
   "display_name": "Python 3",
   "language": "python",
   "name": "python3"
  },
  "language_info": {
   "codemirror_mode": {
    "name": "ipython",
    "version": 3
   },
   "file_extension": ".py",
   "mimetype": "text/x-python",
   "name": "python",
   "nbconvert_exporter": "python",
   "pygments_lexer": "ipython3",
   "version": "3.9.19"
  }
 },
 "nbformat": 4,
 "nbformat_minor": 2
}
